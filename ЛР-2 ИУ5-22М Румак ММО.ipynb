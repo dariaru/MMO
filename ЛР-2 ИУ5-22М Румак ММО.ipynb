{
 "cells": [
  {
   "cell_type": "markdown",
   "metadata": {},
   "source": [
    "## Лабораторная работа 2\n",
    "ИУ5-22М Румак Дарья\n",
    "## Цель работы \n",
    "Изучение продвинутых способов предварительной обработки данных для дальнейшего формирования моделей.\n",
    "\n",
    "## Задание\n",
    "Выбрать набор данных (датасет), содержащий категориальные и числовые признаки и пропуски в данных. Для выполнения следующих пунктов можно использовать несколько различных наборов данных (один для обработки пропусков, другой для категориальных признаков и т.д.) Просьба не использовать датасет, на котором данная задача решалась в лекции.\n",
    "\n",
    "Для выбранного датасета (датасетов) на основе материалов лекций решить следующие задачи:\n",
    "\n",
    "устранение пропусков в данных;\n",
    "\n",
    "кодирование категориальных признаков;\n",
    "\n",
    "нормализация числовых признаков.\n",
    "\n",
    "## Ход работы"
   ]
  },
  {
   "cell_type": "code",
   "execution_count": 2,
   "metadata": {},
   "outputs": [
    {
     "data": {
      "text/html": [
       "<div>\n",
       "<style scoped>\n",
       "    .dataframe tbody tr th:only-of-type {\n",
       "        vertical-align: middle;\n",
       "    }\n",
       "\n",
       "    .dataframe tbody tr th {\n",
       "        vertical-align: top;\n",
       "    }\n",
       "\n",
       "    .dataframe thead th {\n",
       "        text-align: right;\n",
       "    }\n",
       "</style>\n",
       "<table border=\"1\" class=\"dataframe\">\n",
       "  <thead>\n",
       "    <tr style=\"text-align: right;\">\n",
       "      <th></th>\n",
       "      <th>Название университета</th>\n",
       "      <th>Регион</th>\n",
       "      <th>Год основания</th>\n",
       "      <th>Девиз</th>\n",
       "      <th>Национальный ранг</th>\n",
       "      <th>Мировой рейтинг</th>\n",
       "      <th>Оценка мировых рейтингов</th>\n",
       "      <th>Minimum_IELTS_score</th>\n",
       "      <th>Иностранные студенты</th>\n",
       "      <th>Оценка студентов</th>\n",
       "      <th>Кол-во поступивших студентов (тыс.)</th>\n",
       "      <th>Кол-во преподавательского состава</th>\n",
       "      <th>Тип управления университета</th>\n",
       "      <th>Местоположение кампуса</th>\n",
       "      <th>Стоимость жизни в год</th>\n",
       "      <th>Широта</th>\n",
       "      <th>Долгота</th>\n",
       "    </tr>\n",
       "  </thead>\n",
       "  <tbody>\n",
       "    <tr>\n",
       "      <th>0</th>\n",
       "      <td>University of Cambridge</td>\n",
       "      <td>East of England</td>\n",
       "      <td>1209</td>\n",
       "      <td>From here, light and sacred draughts</td>\n",
       "      <td>1</td>\n",
       "      <td>4</td>\n",
       "      <td>94.1</td>\n",
       "      <td>6.5</td>\n",
       "      <td>20.20%</td>\n",
       "      <td>85.50%</td>\n",
       "      <td>20</td>\n",
       "      <td>5000.0</td>\n",
       "      <td>Public</td>\n",
       "      <td>Urban</td>\n",
       "      <td>12000</td>\n",
       "      <td>52.2054</td>\n",
       "      <td>0.1132</td>\n",
       "    </tr>\n",
       "    <tr>\n",
       "      <th>1</th>\n",
       "      <td>University of Oxford</td>\n",
       "      <td>South East England</td>\n",
       "      <td>1096</td>\n",
       "      <td>The Lord is my light</td>\n",
       "      <td>2</td>\n",
       "      <td>2</td>\n",
       "      <td>93.3</td>\n",
       "      <td>6.5</td>\n",
       "      <td>16.80%</td>\n",
       "      <td>86.50%</td>\n",
       "      <td>25</td>\n",
       "      <td>5000.0</td>\n",
       "      <td>Public</td>\n",
       "      <td>Urban</td>\n",
       "      <td>11500</td>\n",
       "      <td>51.7548</td>\n",
       "      <td>-1.2544</td>\n",
       "    </tr>\n",
       "    <tr>\n",
       "      <th>2</th>\n",
       "      <td>University of St Andrews</td>\n",
       "      <td>Scotland</td>\n",
       "      <td>1413</td>\n",
       "      <td>Ever to excel</td>\n",
       "      <td>3</td>\n",
       "      <td>86</td>\n",
       "      <td>75.8</td>\n",
       "      <td>6.5</td>\n",
       "      <td>40.40%</td>\n",
       "      <td>87.90%</td>\n",
       "      <td>10</td>\n",
       "      <td>1500.0</td>\n",
       "      <td>Public</td>\n",
       "      <td>Suburban</td>\n",
       "      <td>12000</td>\n",
       "      <td>56.3417</td>\n",
       "      <td>-2.7943</td>\n",
       "    </tr>\n",
       "    <tr>\n",
       "      <th>3</th>\n",
       "      <td>Imperial College London</td>\n",
       "      <td>London</td>\n",
       "      <td>1907</td>\n",
       "      <td>Knowledge is the adornment and safeguard of th...</td>\n",
       "      <td>4</td>\n",
       "      <td>8</td>\n",
       "      <td>86.6</td>\n",
       "      <td>6.5</td>\n",
       "      <td>41.40%</td>\n",
       "      <td>77.90%</td>\n",
       "      <td>15</td>\n",
       "      <td>4000.0</td>\n",
       "      <td>Public</td>\n",
       "      <td>Urban</td>\n",
       "      <td>10700</td>\n",
       "      <td>51.4988</td>\n",
       "      <td>-0.1749</td>\n",
       "    </tr>\n",
       "    <tr>\n",
       "      <th>4</th>\n",
       "      <td>Loughborough University</td>\n",
       "      <td>East Midlands</td>\n",
       "      <td>1966</td>\n",
       "      <td>With Truth, Knowledge and Labour</td>\n",
       "      <td>5</td>\n",
       "      <td>404</td>\n",
       "      <td>72.8</td>\n",
       "      <td>5.5</td>\n",
       "      <td>22.00%</td>\n",
       "      <td>85.80%</td>\n",
       "      <td>15</td>\n",
       "      <td>1500.0</td>\n",
       "      <td>Public</td>\n",
       "      <td>Suburban</td>\n",
       "      <td>9398</td>\n",
       "      <td>52.7650</td>\n",
       "      <td>-1.2321</td>\n",
       "    </tr>\n",
       "  </tbody>\n",
       "</table>\n",
       "</div>"
      ],
      "text/plain": [
       "      Название университета              Регион  Год основания  \\\n",
       "0   University of Cambridge     East of England           1209   \n",
       "1      University of Oxford  South East England           1096   \n",
       "2  University of St Andrews            Scotland           1413   \n",
       "3   Imperial College London              London           1907   \n",
       "4   Loughborough University       East Midlands           1966   \n",
       "\n",
       "                                               Девиз  Национальный ранг  \\\n",
       "0               From here, light and sacred draughts                  1   \n",
       "1                               The Lord is my light                  2   \n",
       "2                                      Ever to excel                  3   \n",
       "3  Knowledge is the adornment and safeguard of th...                  4   \n",
       "4                   With Truth, Knowledge and Labour                  5   \n",
       "\n",
       "   Мировой рейтинг  Оценка мировых рейтингов  Minimum_IELTS_score  \\\n",
       "0                4                      94.1                  6.5   \n",
       "1                2                      93.3                  6.5   \n",
       "2               86                      75.8                  6.5   \n",
       "3                8                      86.6                  6.5   \n",
       "4              404                      72.8                  5.5   \n",
       "\n",
       "  Иностранные студенты Оценка студентов  Кол-во поступивших студентов (тыс.)  \\\n",
       "0               20.20%           85.50%                                   20   \n",
       "1               16.80%           86.50%                                   25   \n",
       "2               40.40%           87.90%                                   10   \n",
       "3               41.40%           77.90%                                   15   \n",
       "4               22.00%           85.80%                                   15   \n",
       "\n",
       "   Кол-во преподавательского состава Тип управления университета  \\\n",
       "0                             5000.0                      Public   \n",
       "1                             5000.0                      Public   \n",
       "2                             1500.0                      Public   \n",
       "3                             4000.0                      Public   \n",
       "4                             1500.0                      Public   \n",
       "\n",
       "  Местоположение кампуса  Стоимость жизни в год   Широта  Долгота  \n",
       "0                  Urban                  12000  52.2054   0.1132  \n",
       "1                  Urban                  11500  51.7548  -1.2544  \n",
       "2               Suburban                  12000  56.3417  -2.7943  \n",
       "3                  Urban                  10700  51.4988  -0.1749  \n",
       "4               Suburban                   9398  52.7650  -1.2321  "
      ]
     },
     "execution_count": 2,
     "metadata": {},
     "output_type": "execute_result"
    }
   ],
   "source": [
    "import pandas as pd\n",
    "import matplotlib.pyplot as plt\n",
    "import seaborn as sns\n",
    "import numpy as np\n",
    "\n",
    "df = pd.read_csv(\"uk_universities.csv\")\n",
    "df.head()"
   ]
  },
  {
   "cell_type": "code",
   "execution_count": 4,
   "metadata": {},
   "outputs": [
    {
     "data": {
      "text/plain": [
       "Название университета                   0\n",
       "Регион                                  0\n",
       "Год основания                           0\n",
       "Девиз                                  14\n",
       "Национальный ранг                       0\n",
       "Мировой рейтинг                         0\n",
       "Оценка мировых рейтингов               44\n",
       "Minimum_IELTS_score                     0\n",
       "Иностранные студенты                    0\n",
       "Оценка студентов                        0\n",
       "Кол-во поступивших студентов (тыс.)     0\n",
       "Кол-во преподавательского состава       0\n",
       "Тип управления университета             0\n",
       "Местоположение кампуса                 17\n",
       "Стоимость жизни в год                   0\n",
       "Широта                                  0\n",
       "Долгота                                 0\n",
       "dtype: int64"
      ]
     },
     "execution_count": 4,
     "metadata": {},
     "output_type": "execute_result"
    }
   ],
   "source": [
    "df.isnull().sum()"
   ]
  },
  {
   "cell_type": "markdown",
   "metadata": {},
   "source": [
    "Стратегии обработки пропусков:\n",
    "\n",
    "Для числовых признаков пропуски можно заполнить медианой или средним.\n",
    "\n",
    "Для категориальных признаков пропуски можно заменить модой.\n",
    "\n",
    "Если пропусков слишком много, столбец можно удалить."
   ]
  },
  {
   "cell_type": "markdown",
   "metadata": {},
   "source": [
    "- Если пропущенных данных слишком много, рекомендуется удалить признак (колонку) целиком.\n",
    "- Если датасет большой и пропущенных данных относительно немного (5%), рекомендуется удалить строки, содержащие пропуски в данных."
   ]
  },
  {
   "cell_type": "markdown",
   "metadata": {},
   "source": [
    "Категориальные признаки: \"Девиз\", \"Местоположение кампуса\". \n",
    "\n",
    "Количественный признак: \"Оценка мировых рейтингов\". "
   ]
  },
  {
   "cell_type": "code",
   "execution_count": 7,
   "metadata": {},
   "outputs": [
    {
     "data": {
      "text/plain": [
       "['Девиз', 'Оценка мировых рейтингов', 'Местоположение кампуса']"
      ]
     },
     "execution_count": 7,
     "metadata": {},
     "output_type": "execute_result"
    }
   ],
   "source": [
    "# Колонки с пропусками\n",
    "hcols_with_na = [c for c in df.columns if df[c].isnull().sum() > 0]\n",
    "hcols_with_na"
   ]
  },
  {
   "cell_type": "code",
   "execution_count": 8,
   "metadata": {},
   "outputs": [
    {
     "data": {
      "text/plain": [
       "(126, 17)"
      ]
     },
     "execution_count": 8,
     "metadata": {},
     "output_type": "execute_result"
    }
   ],
   "source": [
    "df.shape"
   ]
  },
  {
   "cell_type": "markdown",
   "metadata": {},
   "source": [
    "## Заполнение пропусков"
   ]
  },
  {
   "cell_type": "code",
   "execution_count": 9,
   "metadata": {},
   "outputs": [
    {
     "data": {
      "text/plain": [
       "[('Девиз', 14),\n",
       " ('Оценка мировых рейтингов', 44),\n",
       " ('Местоположение кампуса', 17)]"
      ]
     },
     "execution_count": 9,
     "metadata": {},
     "output_type": "execute_result"
    }
   ],
   "source": [
    "# Количество пропусков\n",
    "[(c, df[c].isnull().sum()) for c in hcols_with_na]"
   ]
  },
  {
   "cell_type": "markdown",
   "metadata": {},
   "source": [
    "**Заполнение (внедрение)** значений или **импьютация (imputation)** - это заполнение пропущенных значений их статистическими оценками."
   ]
  },
  {
   "cell_type": "markdown",
   "metadata": {},
   "source": [
    "**Для числовых признаков:**\n",
    "\n",
    "- Заполнение показателями центра распределения.\n",
    "- Заполнение константой. Полезно в случае \"неслучайного\" распределения пропусков.\n",
    "- Заполнение \"хвостом распределения\"."
   ]
  },
  {
   "cell_type": "code",
   "execution_count": 24,
   "metadata": {},
   "outputs": [
    {
     "name": "stdout",
     "output_type": "stream",
     "text": [
      "Колонка Оценка мировых рейтингов. Тип данных float64. Количество пустых значений 44, 34.92%.\n"
     ]
    },
    {
     "data": {
      "text/plain": [
       "['Оценка мировых рейтингов']"
      ]
     },
     "execution_count": 24,
     "metadata": {},
     "output_type": "execute_result"
    }
   ],
   "source": [
    "# Выберем числовые колонки с пропущенными значениями\n",
    "num_cols = []\n",
    "total_count = len(df)  # Общее количество записей\n",
    "\n",
    "# Цикл по колонкам датасета\n",
    "for col in df.columns:\n",
    "    # Количество пустых значений\n",
    "    temp_null_count = df[df[col].isnull()].shape[0]\n",
    "    dt = str(df[col].dtype)\n",
    "    if temp_null_count > 0 and (dt.startswith('int') or dt.startswith('float') or dt == 'number'):\n",
    "        num_cols.append(col)\n",
    "        temp_perc = round((temp_null_count / total_count) * 100.0, 2)\n",
    "        print(f'Колонка {col}. Тип данных {dt}. Количество пустых значений {temp_null_count}, {temp_perc}%.')\n",
    "        \n",
    "num_cols"
   ]
  },
  {
   "cell_type": "code",
   "execution_count": 27,
   "metadata": {},
   "outputs": [
    {
     "data": {
      "image/png": "[encoded data removed]",
      "text/plain": [
       "<Figure size 800x500 with 1 Axes>"
      ]
     },
     "metadata": {},
     "output_type": "display_data"
    }
   ],
   "source": [
    "# Выбор столбца\n",
    "column_name = \"Оценка мировых рейтингов\"\n",
    "\n",
    "# Построение гистограммы\n",
    "plt.figure(figsize=(8, 5))\n",
    "plt.hist(df[column_name].dropna(), bins=15, edgecolor=\"black\", alpha=0.7)\n",
    "plt.xlabel(column_name)\n",
    "plt.ylabel(\"Частота\")\n",
    "plt.title(f\"{column_name}\")\n",
    "plt.grid(True)\n",
    "plt.show()"
   ]
  },
  {
   "cell_type": "code",
   "execution_count": 29,
   "metadata": {},
   "outputs": [],
   "source": [
    "# Заполнение пропусков медианой\n",
    "df['Оценка мировых рейтингов'].fillna(df['Оценка мировых рейтингов'].median(), inplace=True)"
   ]
  },
  {
   "cell_type": "code",
   "execution_count": 30,
   "metadata": {
    "scrolled": true
   },
   "outputs": [
    {
     "data": {
      "text/plain": [
       "Название университета                   0\n",
       "Регион                                  0\n",
       "Год основания                           0\n",
       "Девиз                                  14\n",
       "Национальный ранг                       0\n",
       "Мировой рейтинг                         0\n",
       "Оценка мировых рейтингов                0\n",
       "Minimum_IELTS_score                     0\n",
       "Иностранные студенты                    0\n",
       "Оценка студентов                        0\n",
       "Кол-во поступивших студентов (тыс.)     0\n",
       "Кол-во преподавательского состава       0\n",
       "Тип управления университета             0\n",
       "Местоположение кампуса                 17\n",
       "Стоимость жизни в год                   0\n",
       "Широта                                  0\n",
       "Долгота                                 0\n",
       "dtype: int64"
      ]
     },
     "execution_count": 30,
     "metadata": {},
     "output_type": "execute_result"
    }
   ],
   "source": [
    "df.isnull().sum()"
   ]
  },
  {
   "cell_type": "markdown",
   "metadata": {},
   "source": [
    "**Для категориальных признаков:**\n",
    "\n",
    "- Заполнение наиболее распространенным значением категории (аналогом моды).\n",
    "- Введение отдельного значения категории для пропущенных значений."
   ]
  },
  {
   "cell_type": "markdown",
   "metadata": {},
   "source": [
    "Будем работать с признаком \"Местоположение кампуса\". Проверим уникальные значения."
   ]
  },
  {
   "cell_type": "code",
   "execution_count": 31,
   "metadata": {},
   "outputs": [
    {
     "data": {
      "text/plain": [
       "array(['Urban', 'Suburban', 'Rural', nan], dtype=object)"
      ]
     },
     "execution_count": 31,
     "metadata": {},
     "output_type": "execute_result"
    }
   ],
   "source": [
    "cat_temp_data = df[['Местоположение кампуса']]\n",
    "cat_temp_data['Местоположение кампуса'].unique()"
   ]
  },
  {
   "cell_type": "markdown",
   "metadata": {},
   "source": [
    "Так как мы не можем точно определить местоположение кампуса \n",
    "университетов, где стоят пропуски, просто напишем, что данные не указаны. \n",
    "\n",
    "Заменим пропуски константой **\"NotIndicated\"**:"
   ]
  },
  {
   "cell_type": "code",
   "execution_count": 49,
   "metadata": {},
   "outputs": [],
   "source": [
    "from sklearn.impute import SimpleImputer\n",
    "\n",
    "column_name = 'Местоположение кампуса'\n",
    "fill_value = 'NotIndicated' # Ваше значение для заполнения\n",
    "\n",
    "df[column_name].fillna(fill_value, inplace=True)"
   ]
  },
  {
   "cell_type": "code",
   "execution_count": 50,
   "metadata": {},
   "outputs": [
    {
     "data": {
      "text/plain": [
       "array(['Urban', 'Suburban', 'Rural', nan], dtype=object)"
      ]
     },
     "execution_count": 50,
     "metadata": {},
     "output_type": "execute_result"
    }
   ],
   "source": [
    "np.unique(data_imp)\n",
    "cat_temp_data['Местоположение кампуса'].unique()"
   ]
  },
  {
   "cell_type": "code",
   "execution_count": 51,
   "metadata": {},
   "outputs": [],
   "source": [
    "# Заполнение пропусков модой\n",
    "df['Девиз'].fillna(df['Девиз'].mode()[0], inplace=True)"
   ]
  },
  {
   "cell_type": "code",
   "execution_count": 52,
   "metadata": {
    "scrolled": true
   },
   "outputs": [
    {
     "data": {
      "text/plain": [
       "Название университета                  0\n",
       "Регион                                 0\n",
       "Год основания                          0\n",
       "Девиз                                  0\n",
       "Национальный ранг                      0\n",
       "Мировой рейтинг                        0\n",
       "Оценка мировых рейтингов               0\n",
       "Minimum_IELTS_score                    0\n",
       "Иностранные студенты                   0\n",
       "Оценка студентов                       0\n",
       "Кол-во поступивших студентов (тыс.)    0\n",
       "Кол-во преподавательского состава      0\n",
       "Тип управления университета            0\n",
       "Местоположение кампуса                 0\n",
       "Стоимость жизни в год                  0\n",
       "Широта                                 0\n",
       "Долгота                                0\n",
       "dtype: int64"
      ]
     },
     "execution_count": 52,
     "metadata": {},
     "output_type": "execute_result"
    }
   ],
   "source": [
    "df.isnull().sum()"
   ]
  },
  {
   "cell_type": "markdown",
   "metadata": {},
   "source": [
    "## Кодирование категориальных признаков\n",
    "\n",
    "Категориальные признаки нужно преобразовать в числовые для машинного обучения.\n",
    "\n",
    "Методы кодирования:\n",
    "\n",
    "- One-Hot Encoding (для номинальных признаков без порядка).\n",
    "\n",
    "- Ordinal Encoding (для порядковых признаков, например Pclass)."
   ]
  },
  {
   "cell_type": "code",
   "execution_count": 54,
   "metadata": {},
   "outputs": [],
   "source": [
    "# One-Hot\n",
    "df = pd.get_dummies(df, columns=['Девиз'], drop_first=True)"
   ]
  },
  {
   "cell_type": "markdown",
   "metadata": {},
   "source": [
    "## Нормализация числовых признаков\n",
    "\n",
    "\n",
    "**Методы нормализации**\n",
    "\n",
    "- StandardScaler (среднее = 0, дисперсия = 1) — для алгоритмов, чувствительных к масштабу (логистическая регрессия, SVM).\n",
    "\n",
    "- MinMaxScaler (диапазон [0, 1]) — для нейросетей или методов, основанных на расстояниях (KNN)."
   ]
  },
  {
   "cell_type": "markdown",
   "metadata": {},
   "source": [
    "**MinMaxScaler**: \n",
    "Гарантирует, что все значения будут лежать в строго определенном диапазоне (по умолчанию [0, 1]). Это может быть полезно для визуализации или для алгоритмов, которые этого требуют (некоторые нейросетевые слои, обработка изображений, где пиксели часто нормализуют к [0, 1]).\n",
    "\n",
    "**StandardScaler**: \n",
    "Не гарантирует фиксированный диапазон. Значения могут выходить за пределы [-1, 1], особенно если были выбросы."
   ]
  },
  {
   "cell_type": "code",
   "execution_count": 56,
   "metadata": {},
   "outputs": [
    {
     "data": {
      "text/plain": [
       "['Год основания',\n",
       " 'Национальный ранг',\n",
       " 'Мировой рейтинг',\n",
       " 'Оценка мировых рейтингов',\n",
       " 'Minimum_IELTS_score',\n",
       " 'Кол-во поступивших студентов (тыс.)',\n",
       " 'Кол-во преподавательского состава',\n",
       " 'Стоимость жизни в год',\n",
       " 'Широта']"
      ]
     },
     "execution_count": 56,
     "metadata": {},
     "output_type": "execute_result"
    }
   ],
   "source": [
    "from sklearn.preprocessing import StandardScaler\n",
    "        \n",
    "# Выберем числовые колонки с пропущенными значениями\n",
    "num_cols = []\n",
    "total_count = len(df)  # Общее количество записей\n",
    "\n",
    "# Цикл по колонкам датасета\n",
    "for col in df.columns:\n",
    "    # Получаем тип данных колонки\n",
    "    dt = str(df[col].dtype)\n",
    "    # Проверяем, начинается ли тип с 'int' или 'float' (основные числовые типы pandas)\n",
    "    if dt.startswith('int') or dt.startswith('float'):\n",
    "        num_cols.append(col)\n",
    "      \n",
    "num_cols"
   ]
  },
  {
   "cell_type": "code",
   "execution_count": 58,
   "metadata": {},
   "outputs": [
    {
     "data": {
      "text/html": [
       "<div>\n",
       "<style scoped>\n",
       "    .dataframe tbody tr th:only-of-type {\n",
       "        vertical-align: middle;\n",
       "    }\n",
       "\n",
       "    .dataframe tbody tr th {\n",
       "        vertical-align: top;\n",
       "    }\n",
       "\n",
       "    .dataframe thead th {\n",
       "        text-align: right;\n",
       "    }\n",
       "</style>\n",
       "<table border=\"1\" class=\"dataframe\">\n",
       "  <thead>\n",
       "    <tr style=\"text-align: right;\">\n",
       "      <th></th>\n",
       "      <th>Год основания</th>\n",
       "      <th>Национальный ранг</th>\n",
       "      <th>Мировой рейтинг</th>\n",
       "      <th>Оценка мировых рейтингов</th>\n",
       "      <th>Minimum_IELTS_score</th>\n",
       "      <th>Кол-во поступивших студентов (тыс.)</th>\n",
       "      <th>Кол-во преподавательского состава</th>\n",
       "      <th>Стоимость жизни в год</th>\n",
       "      <th>Широта</th>\n",
       "    </tr>\n",
       "  </thead>\n",
       "  <tbody>\n",
       "    <tr>\n",
       "      <th>0</th>\n",
       "      <td>-5.138159</td>\n",
       "      <td>-1.689938</td>\n",
       "      <td>-0.960007</td>\n",
       "      <td>3.987908</td>\n",
       "      <td>2.460381</td>\n",
       "      <td>0.578467</td>\n",
       "      <td>3.016827</td>\n",
       "      <td>2.141455</td>\n",
       "      <td>-0.354939</td>\n",
       "    </tr>\n",
       "    <tr>\n",
       "      <th>1</th>\n",
       "      <td>-5.947320</td>\n",
       "      <td>-1.663876</td>\n",
       "      <td>-0.961818</td>\n",
       "      <td>3.832601</td>\n",
       "      <td>2.460381</td>\n",
       "      <td>1.151476</td>\n",
       "      <td>3.016827</td>\n",
       "      <td>1.820759</td>\n",
       "      <td>-0.628775</td>\n",
       "    </tr>\n",
       "    <tr>\n",
       "      <th>2</th>\n",
       "      <td>-3.677371</td>\n",
       "      <td>-1.637813</td>\n",
       "      <td>-0.885719</td>\n",
       "      <td>0.435260</td>\n",
       "      <td>2.460381</td>\n",
       "      <td>-0.567552</td>\n",
       "      <td>0.094807</td>\n",
       "      <td>2.141455</td>\n",
       "      <td>2.158749</td>\n",
       "    </tr>\n",
       "    <tr>\n",
       "      <th>3</th>\n",
       "      <td>-0.139975</td>\n",
       "      <td>-1.611750</td>\n",
       "      <td>-0.956383</td>\n",
       "      <td>2.531905</td>\n",
       "      <td>2.460381</td>\n",
       "      <td>0.005457</td>\n",
       "      <td>2.181964</td>\n",
       "      <td>1.307646</td>\n",
       "      <td>-0.784349</td>\n",
       "    </tr>\n",
       "    <tr>\n",
       "      <th>4</th>\n",
       "      <td>0.282508</td>\n",
       "      <td>-1.585688</td>\n",
       "      <td>-0.597629</td>\n",
       "      <td>-0.147141</td>\n",
       "      <td>0.858272</td>\n",
       "      <td>0.005457</td>\n",
       "      <td>0.094807</td>\n",
       "      <td>0.472553</td>\n",
       "      <td>-0.014862</td>\n",
       "    </tr>\n",
       "    <tr>\n",
       "      <th>...</th>\n",
       "      <td>...</td>\n",
       "      <td>...</td>\n",
       "      <td>...</td>\n",
       "      <td>...</td>\n",
       "      <td>...</td>\n",
       "      <td>...</td>\n",
       "      <td>...</td>\n",
       "      <td>...</td>\n",
       "      <td>...</td>\n",
       "    </tr>\n",
       "    <tr>\n",
       "      <th>121</th>\n",
       "      <td>0.468686</td>\n",
       "      <td>1.593962</td>\n",
       "      <td>-0.083958</td>\n",
       "      <td>-0.185968</td>\n",
       "      <td>-0.743836</td>\n",
       "      <td>-0.567552</td>\n",
       "      <td>-0.406111</td>\n",
       "      <td>1.005550</td>\n",
       "      <td>-0.779002</td>\n",
       "    </tr>\n",
       "    <tr>\n",
       "      <th>122</th>\n",
       "      <td>0.568936</td>\n",
       "      <td>1.620024</td>\n",
       "      <td>0.196885</td>\n",
       "      <td>-0.185968</td>\n",
       "      <td>-0.743836</td>\n",
       "      <td>-0.567552</td>\n",
       "      <td>-0.740056</td>\n",
       "      <td>0.483457</td>\n",
       "      <td>-0.553965</td>\n",
       "    </tr>\n",
       "    <tr>\n",
       "      <th>123</th>\n",
       "      <td>0.576097</td>\n",
       "      <td>1.646087</td>\n",
       "      <td>2.687327</td>\n",
       "      <td>-0.185968</td>\n",
       "      <td>-0.743836</td>\n",
       "      <td>-0.911358</td>\n",
       "      <td>-0.990515</td>\n",
       "      <td>0.483457</td>\n",
       "      <td>-0.447980</td>\n",
       "    </tr>\n",
       "    <tr>\n",
       "      <th>124</th>\n",
       "      <td>0.583258</td>\n",
       "      <td>1.672150</td>\n",
       "      <td>1.207919</td>\n",
       "      <td>-0.185968</td>\n",
       "      <td>-0.743836</td>\n",
       "      <td>-1.140562</td>\n",
       "      <td>-0.990515</td>\n",
       "      <td>-0.570992</td>\n",
       "      <td>0.159917</td>\n",
       "    </tr>\n",
       "    <tr>\n",
       "      <th>125</th>\n",
       "      <td>0.253865</td>\n",
       "      <td>1.698212</td>\n",
       "      <td>1.535871</td>\n",
       "      <td>-0.185968</td>\n",
       "      <td>0.858272</td>\n",
       "      <td>-1.484368</td>\n",
       "      <td>-1.074002</td>\n",
       "      <td>1.005550</td>\n",
       "      <td>-0.782587</td>\n",
       "    </tr>\n",
       "  </tbody>\n",
       "</table>\n",
       "<p>126 rows × 9 columns</p>\n",
       "</div>"
      ],
      "text/plain": [
       "     Год основания  Национальный ранг  Мировой рейтинг  \\\n",
       "0        -5.138159          -1.689938        -0.960007   \n",
       "1        -5.947320          -1.663876        -0.961818   \n",
       "2        -3.677371          -1.637813        -0.885719   \n",
       "3        -0.139975          -1.611750        -0.956383   \n",
       "4         0.282508          -1.585688        -0.597629   \n",
       "..             ...                ...              ...   \n",
       "121       0.468686           1.593962        -0.083958   \n",
       "122       0.568936           1.620024         0.196885   \n",
       "123       0.576097           1.646087         2.687327   \n",
       "124       0.583258           1.672150         1.207919   \n",
       "125       0.253865           1.698212         1.535871   \n",
       "\n",
       "     Оценка мировых рейтингов  Minimum_IELTS_score  \\\n",
       "0                    3.987908             2.460381   \n",
       "1                    3.832601             2.460381   \n",
       "2                    0.435260             2.460381   \n",
       "3                    2.531905             2.460381   \n",
       "4                   -0.147141             0.858272   \n",
       "..                        ...                  ...   \n",
       "121                 -0.185968            -0.743836   \n",
       "122                 -0.185968            -0.743836   \n",
       "123                 -0.185968            -0.743836   \n",
       "124                 -0.185968            -0.743836   \n",
       "125                 -0.185968             0.858272   \n",
       "\n",
       "     Кол-во поступивших студентов (тыс.)  Кол-во преподавательского состава  \\\n",
       "0                               0.578467                           3.016827   \n",
       "1                               1.151476                           3.016827   \n",
       "2                              -0.567552                           0.094807   \n",
       "3                               0.005457                           2.181964   \n",
       "4                               0.005457                           0.094807   \n",
       "..                                   ...                                ...   \n",
       "121                            -0.567552                          -0.406111   \n",
       "122                            -0.567552                          -0.740056   \n",
       "123                            -0.911358                          -0.990515   \n",
       "124                            -1.140562                          -0.990515   \n",
       "125                            -1.484368                          -1.074002   \n",
       "\n",
       "     Стоимость жизни в год    Широта  \n",
       "0                 2.141455 -0.354939  \n",
       "1                 1.820759 -0.628775  \n",
       "2                 2.141455  2.158749  \n",
       "3                 1.307646 -0.784349  \n",
       "4                 0.472553 -0.014862  \n",
       "..                     ...       ...  \n",
       "121               1.005550 -0.779002  \n",
       "122               0.483457 -0.553965  \n",
       "123               0.483457 -0.447980  \n",
       "124              -0.570992  0.159917  \n",
       "125               1.005550 -0.782587  \n",
       "\n",
       "[126 rows x 9 columns]"
      ]
     },
     "execution_count": 58,
     "metadata": {},
     "output_type": "execute_result"
    }
   ],
   "source": [
    "# Инициализация и применение StandardScaler\n",
    "scaler = StandardScaler()\n",
    "df[num_cols] = scaler.fit_transform(df[num_cols])\n",
    "df[num_cols]"
   ]
  },
  {
   "cell_type": "markdown",
   "metadata": {},
   "source": [
    "Все числовые признаки будут иметь среднее 0 и стандартное отклонение 1."
   ]
  },
  {
   "cell_type": "markdown",
   "metadata": {},
   "source": []
  },
  {
   "cell_type": "code",
   "execution_count": null,
   "metadata": {},
   "outputs": [],
   "source": []
  }
 ],
 "metadata": {
  "kernelspec": {
   "display_name": "Python 3 (ipykernel)",
   "language": "python",
   "name": "python3"
  },
  "language_info": {
   "codemirror_mode": {
    "name": "ipython",
    "version": 3
   },
   "file_extension": ".py",
   "mimetype": "text/x-python",
   "name": "python",
   "nbconvert_exporter": "python",
   "pygments_lexer": "ipython3",
   "version": "3.10.11"
  }
 },
 "nbformat": 4,
 "nbformat_minor": 2
}
