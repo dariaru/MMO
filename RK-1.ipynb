{
 "cells": [
  {
   "cell_type": "code",
   "execution_count": 89,
   "metadata": {
    "id": "U2CdR-Vwsu27"
   },
   "outputs": [],
   "source": [
    "import numpy as np\n",
    "import pandas as pd\n",
    "import seaborn as sns\n",
    "import matplotlib.pyplot as plt\n",
    "from sklearn.impute import SimpleImputer"
   ]
  },
  {
   "cell_type": "code",
   "execution_count": 90,
   "metadata": {
    "id": "U029vVHts8f2"
   },
   "outputs": [],
   "source": [
    "data = pd.read_csv(r'uk_universities.csv')"
   ]
  },
  {
   "cell_type": "code",
   "execution_count": 91,
   "metadata": {
    "colab": {
     "base_uri": "https://localhost:8080/",
     "height": 206
    },
    "id": "sqF9oDrutu1i",
    "outputId": "0c9ba8e7-ac5e-4f8e-e98d-88765a7ca149"
   },
   "outputs": [
    {
     "data": {
      "text/html": [
       "<div>\n",
       "<style scoped>\n",
       "    .dataframe tbody tr th:only-of-type {\n",
       "        vertical-align: middle;\n",
       "    }\n",
       "\n",
       "    .dataframe tbody tr th {\n",
       "        vertical-align: top;\n",
       "    }\n",
       "\n",
       "    .dataframe thead th {\n",
       "        text-align: right;\n",
       "    }\n",
       "</style>\n",
       "<table border=\"1\" class=\"dataframe\">\n",
       "  <thead>\n",
       "    <tr style=\"text-align: right;\">\n",
       "      <th></th>\n",
       "      <th>Название университета</th>\n",
       "      <th>Регион</th>\n",
       "      <th>Год основания</th>\n",
       "      <th>Девиз</th>\n",
       "      <th>Национальный ранг</th>\n",
       "      <th>Мировой рейтинг</th>\n",
       "      <th>Оценка мировых рейтингов</th>\n",
       "      <th>Minimum_IELTS_score</th>\n",
       "      <th>Иностранные студенты</th>\n",
       "      <th>Оценка студентов</th>\n",
       "      <th>Кол-во поступивших студентов (тыс.)</th>\n",
       "      <th>Кол-во преподавательского состава</th>\n",
       "      <th>Тип управления университета</th>\n",
       "      <th>Местоположение кампуса</th>\n",
       "      <th>Стоимость жизни в год</th>\n",
       "      <th>Широта</th>\n",
       "      <th>Долгота</th>\n",
       "    </tr>\n",
       "  </thead>\n",
       "  <tbody>\n",
       "    <tr>\n",
       "      <th>0</th>\n",
       "      <td>University of Cambridge</td>\n",
       "      <td>East of England</td>\n",
       "      <td>1209</td>\n",
       "      <td>From here, light and sacred draughts</td>\n",
       "      <td>1</td>\n",
       "      <td>4</td>\n",
       "      <td>94.1</td>\n",
       "      <td>6.5</td>\n",
       "      <td>20.20%</td>\n",
       "      <td>85.50%</td>\n",
       "      <td>20</td>\n",
       "      <td>5000.0</td>\n",
       "      <td>Public</td>\n",
       "      <td>Urban</td>\n",
       "      <td>12000</td>\n",
       "      <td>52.2054</td>\n",
       "      <td>0.1132</td>\n",
       "    </tr>\n",
       "    <tr>\n",
       "      <th>1</th>\n",
       "      <td>University of Oxford</td>\n",
       "      <td>South East England</td>\n",
       "      <td>1096</td>\n",
       "      <td>The Lord is my light</td>\n",
       "      <td>2</td>\n",
       "      <td>2</td>\n",
       "      <td>93.3</td>\n",
       "      <td>6.5</td>\n",
       "      <td>16.80%</td>\n",
       "      <td>86.50%</td>\n",
       "      <td>25</td>\n",
       "      <td>5000.0</td>\n",
       "      <td>Public</td>\n",
       "      <td>Urban</td>\n",
       "      <td>11500</td>\n",
       "      <td>51.7548</td>\n",
       "      <td>-1.2544</td>\n",
       "    </tr>\n",
       "    <tr>\n",
       "      <th>2</th>\n",
       "      <td>University of St Andrews</td>\n",
       "      <td>Scotland</td>\n",
       "      <td>1413</td>\n",
       "      <td>Ever to excel</td>\n",
       "      <td>3</td>\n",
       "      <td>86</td>\n",
       "      <td>75.8</td>\n",
       "      <td>6.5</td>\n",
       "      <td>40.40%</td>\n",
       "      <td>87.90%</td>\n",
       "      <td>10</td>\n",
       "      <td>1500.0</td>\n",
       "      <td>Public</td>\n",
       "      <td>Suburban</td>\n",
       "      <td>12000</td>\n",
       "      <td>56.3417</td>\n",
       "      <td>-2.7943</td>\n",
       "    </tr>\n",
       "    <tr>\n",
       "      <th>3</th>\n",
       "      <td>Imperial College London</td>\n",
       "      <td>London</td>\n",
       "      <td>1907</td>\n",
       "      <td>Knowledge is the adornment and safeguard of th...</td>\n",
       "      <td>4</td>\n",
       "      <td>8</td>\n",
       "      <td>86.6</td>\n",
       "      <td>6.5</td>\n",
       "      <td>41.40%</td>\n",
       "      <td>77.90%</td>\n",
       "      <td>15</td>\n",
       "      <td>4000.0</td>\n",
       "      <td>Public</td>\n",
       "      <td>Urban</td>\n",
       "      <td>10700</td>\n",
       "      <td>51.4988</td>\n",
       "      <td>-0.1749</td>\n",
       "    </tr>\n",
       "    <tr>\n",
       "      <th>4</th>\n",
       "      <td>Loughborough University</td>\n",
       "      <td>East Midlands</td>\n",
       "      <td>1966</td>\n",
       "      <td>With Truth, Knowledge and Labour</td>\n",
       "      <td>5</td>\n",
       "      <td>404</td>\n",
       "      <td>72.8</td>\n",
       "      <td>5.5</td>\n",
       "      <td>22.00%</td>\n",
       "      <td>85.80%</td>\n",
       "      <td>15</td>\n",
       "      <td>1500.0</td>\n",
       "      <td>Public</td>\n",
       "      <td>Suburban</td>\n",
       "      <td>9398</td>\n",
       "      <td>52.7650</td>\n",
       "      <td>-1.2321</td>\n",
       "    </tr>\n",
       "  </tbody>\n",
       "</table>\n",
       "</div>"
      ],
      "text/plain": [
       "      Название университета              Регион  Год основания  \\\n",
       "0   University of Cambridge     East of England           1209   \n",
       "1      University of Oxford  South East England           1096   \n",
       "2  University of St Andrews            Scotland           1413   \n",
       "3   Imperial College London              London           1907   \n",
       "4   Loughborough University       East Midlands           1966   \n",
       "\n",
       "                                               Девиз  Национальный ранг  \\\n",
       "0               From here, light and sacred draughts                  1   \n",
       "1                               The Lord is my light                  2   \n",
       "2                                      Ever to excel                  3   \n",
       "3  Knowledge is the adornment and safeguard of th...                  4   \n",
       "4                   With Truth, Knowledge and Labour                  5   \n",
       "\n",
       "   Мировой рейтинг  Оценка мировых рейтингов  Minimum_IELTS_score  \\\n",
       "0                4                      94.1                  6.5   \n",
       "1                2                      93.3                  6.5   \n",
       "2               86                      75.8                  6.5   \n",
       "3                8                      86.6                  6.5   \n",
       "4              404                      72.8                  5.5   \n",
       "\n",
       "  Иностранные студенты Оценка студентов  Кол-во поступивших студентов (тыс.)  \\\n",
       "0               20.20%           85.50%                                   20   \n",
       "1               16.80%           86.50%                                   25   \n",
       "2               40.40%           87.90%                                   10   \n",
       "3               41.40%           77.90%                                   15   \n",
       "4               22.00%           85.80%                                   15   \n",
       "\n",
       "   Кол-во преподавательского состава Тип управления университета  \\\n",
       "0                             5000.0                      Public   \n",
       "1                             5000.0                      Public   \n",
       "2                             1500.0                      Public   \n",
       "3                             4000.0                      Public   \n",
       "4                             1500.0                      Public   \n",
       "\n",
       "  Местоположение кампуса  Стоимость жизни в год   Широта  Долгота  \n",
       "0                  Urban                  12000  52.2054   0.1132  \n",
       "1                  Urban                  11500  51.7548  -1.2544  \n",
       "2               Suburban                  12000  56.3417  -2.7943  \n",
       "3                  Urban                  10700  51.4988  -0.1749  \n",
       "4               Suburban                   9398  52.7650  -1.2321  "
      ]
     },
     "execution_count": 91,
     "metadata": {},
     "output_type": "execute_result"
    }
   ],
   "source": [
    "data.head()"
   ]
  },
  {
   "cell_type": "code",
   "execution_count": 92,
   "metadata": {
    "colab": {
     "base_uri": "https://localhost:8080/"
    },
    "id": "mBR6My2Gt2AC",
    "outputId": "fb56a6fd-11dc-4365-99bf-ae41b271ed52"
   },
   "outputs": [
    {
     "data": {
      "text/plain": [
       "(126, 17)"
      ]
     },
     "execution_count": 92,
     "metadata": {},
     "output_type": "execute_result"
    }
   ],
   "source": [
    "data.shape"
   ]
  },
  {
   "cell_type": "code",
   "execution_count": 93,
   "metadata": {
    "colab": {
     "base_uri": "https://localhost:8080/"
    },
    "id": "k0384kWwt4h5",
    "outputId": "2cef0cde-2f5a-4ec3-a843-c7c7e020dfb8"
   },
   "outputs": [
    {
     "name": "stdout",
     "output_type": "stream",
     "text": [
      "<class 'pandas.core.frame.DataFrame'>\n",
      "RangeIndex: 126 entries, 0 to 125\n",
      "Data columns (total 17 columns):\n",
      " #   Column                               Non-Null Count  Dtype  \n",
      "---  ------                               --------------  -----  \n",
      " 0   Название университета                126 non-null    object \n",
      " 1   Регион                               126 non-null    object \n",
      " 2   Год основания                        126 non-null    int64  \n",
      " 3   Девиз                                112 non-null    object \n",
      " 4   Национальный ранг                    126 non-null    int64  \n",
      " 5   Мировой рейтинг                      126 non-null    int64  \n",
      " 6   Оценка мировых рейтингов             82 non-null     float64\n",
      " 7   Minimum_IELTS_score                  126 non-null    float64\n",
      " 8   Иностранные студенты                 126 non-null    object \n",
      " 9   Оценка студентов                     126 non-null    object \n",
      " 10  Кол-во поступивших студентов (тыс.)  126 non-null    int64  \n",
      " 11  Кол-во преподавательского состава    126 non-null    float64\n",
      " 12  Тип управления университета          126 non-null    object \n",
      " 13  Местоположение кампуса               109 non-null    object \n",
      " 14  Стоимость жизни в год                126 non-null    int64  \n",
      " 15  Широта                               126 non-null    float64\n",
      " 16  Долгота                              126 non-null    object \n",
      "dtypes: float64(4), int64(5), object(8)\n",
      "memory usage: 16.9+ KB\n"
     ]
    }
   ],
   "source": [
    "data.info()"
   ]
  },
  {
   "cell_type": "code",
   "execution_count": 94,
   "metadata": {
    "colab": {
     "base_uri": "https://localhost:8080/"
    },
    "id": "3RIU-TUQt9mB",
    "outputId": "9effc1ab-166e-4fdd-aa1e-6f15a13c8d1b"
   },
   "outputs": [
    {
     "data": {
      "text/plain": [
       "Название университета                   0\n",
       "Регион                                  0\n",
       "Год основания                           0\n",
       "Девиз                                  14\n",
       "Национальный ранг                       0\n",
       "Мировой рейтинг                         0\n",
       "Оценка мировых рейтингов               44\n",
       "Minimum_IELTS_score                     0\n",
       "Иностранные студенты                    0\n",
       "Оценка студентов                        0\n",
       "Кол-во поступивших студентов (тыс.)     0\n",
       "Кол-во преподавательского состава       0\n",
       "Тип управления университета             0\n",
       "Местоположение кампуса                 17\n",
       "Стоимость жизни в год                   0\n",
       "Широта                                  0\n",
       "Долгота                                 0\n",
       "dtype: int64"
      ]
     },
     "execution_count": 94,
     "metadata": {},
     "output_type": "execute_result"
    }
   ],
   "source": [
    "data.isnull().sum()"
   ]
  },
  {
   "cell_type": "code",
   "execution_count": 95,
   "metadata": {
    "colab": {
     "base_uri": "https://localhost:8080/",
     "height": 495
    },
    "id": "BRLADdC5Bauz",
    "outputId": "b65d303f-d22c-428b-deac-fc17da432044"
   },
   "outputs": [
    {
     "data": {
      "text/plain": [
       "['Год основания',\n",
       " 'Национальный ранг',\n",
       " 'Мировой рейтинг',\n",
       " 'Оценка мировых рейтингов',\n",
       " 'Minimum_IELTS_score',\n",
       " 'Кол-во поступивших студентов (тыс.)',\n",
       " 'Кол-во преподавательского состава',\n",
       " 'Стоимость жизни в год',\n",
       " 'Широта']"
      ]
     },
     "execution_count": 95,
     "metadata": {},
     "output_type": "execute_result"
    }
   ],
   "source": [
    "data.select_dtypes(include=[np.number]).columns.tolist()"
   ]
  },
  {
   "cell_type": "code",
   "execution_count": 96,
   "metadata": {
    "colab": {
     "base_uri": "https://localhost:8080/"
    },
    "id": "kIG1flFJ6tJG",
    "outputId": "1a4b31a3-1b5d-4b7a-a068-5b7a6bb912c2"
   },
   "outputs": [
    {
     "name": "stdout",
     "output_type": "stream",
     "text": [
      "Колонка Оценка мировых рейтингов. Тип данных float64. Количество пустых значений 44, 34.92%.\n"
     ]
    },
    {
     "data": {
      "text/plain": [
       "['Оценка мировых рейтингов']"
      ]
     },
     "execution_count": 96,
     "metadata": {},
     "output_type": "execute_result"
    }
   ],
   "source": [
    "# Выберем числовые колонки с пропущенными значениями\n",
    "num_cols = []\n",
    "total_count = len(data)  # Общее количество записей\n",
    "\n",
    "# Цикл по колонкам датасета\n",
    "for col in data.columns:\n",
    "    # Количество пустых значений\n",
    "    temp_null_count = data[data[col].isnull()].shape[0]\n",
    "    dt = str(data[col].dtype)\n",
    "    if temp_null_count > 0 and (dt.startswith('int') or dt.startswith('float') or dt == 'number'):\n",
    "        num_cols.append(col)\n",
    "        temp_perc = round((temp_null_count / total_count) * 100.0, 2)\n",
    "        print(f'Колонка {col}. Тип данных {dt}. Количество пустых значений {temp_null_count}, {temp_perc}%.')\n",
    "        \n",
    "num_cols"
   ]
  },
  {
   "cell_type": "code",
   "execution_count": 97,
   "metadata": {},
   "outputs": [
    {
     "data": {
      "text/plain": [
       "'Оценка мировых рейтингов'"
      ]
     },
     "execution_count": 97,
     "metadata": {},
     "output_type": "execute_result"
    }
   ],
   "source": [
    "chosen_col = num_cols[0]\n",
    "chosen_col"
   ]
  },
  {
   "cell_type": "code",
   "execution_count": 98,
   "metadata": {},
   "outputs": [
    {
     "name": "stdout",
     "output_type": "stream",
     "text": [
      "Коэффициент асимметрии (skewness) для Оценка мировых рейтингов: 0.965\n"
     ]
    }
   ],
   "source": [
    "from scipy.stats import skew\n",
    "# Убираем NaN перед расчетом skewness\n",
    "col_data = data[chosen_col].dropna()\n",
    "# Коэффициент асимметрии\n",
    "skewness = skew(col_data)\n",
    "print(f\"Коэффициент асимметрии (skewness) для {chosen_col}: {skewness:.3f}\")"
   ]
  },
  {
   "cell_type": "code",
   "execution_count": 99,
   "metadata": {},
   "outputs": [
    {
     "data": {
      "text/plain": [
       "<Figure size 1000x500 with 0 Axes>"
      ]
     },
     "execution_count": 99,
     "metadata": {},
     "output_type": "execute_result"
    },
    {
     "data": {
      "text/plain": [
       "<Figure size 1000x500 with 0 Axes>"
      ]
     },
     "metadata": {},
     "output_type": "display_data"
    }
   ],
   "source": [
    "# 2. Визуализация распределения\n",
    "plt.figure(figsize=(10, 5))"
   ]
  },
  {
   "cell_type": "code",
   "execution_count": 100,
   "metadata": {},
   "outputs": [
    {
     "data": {
      "text/plain": [
       "Text(0.5, 1.0, 'Гистограмма признака Оценка мировых рейтингов')"
      ]
     },
     "execution_count": 100,
     "metadata": {},
     "output_type": "execute_result"
    },
    {
     "data": {
      "image/png": "[encoded data removed]",
      "text/plain": [
       "<Figure size 640x480 with 1 Axes>"
      ]
     },
     "metadata": {},
     "output_type": "display_data"
    }
   ],
   "source": [
    "# Гистограмма\n",
    "plt.subplot(1, 2, 1)\n",
    "sns.histplot(col_data, kde=False, bins=30)\n",
    "plt.title(f\"Гистограмма признака {chosen_col}\")"
   ]
  },
  {
   "cell_type": "code",
   "execution_count": 101,
   "metadata": {},
   "outputs": [
    {
     "data": {
      "image/png": "[encoded data removed]",
      "text/plain": [
       "<Figure size 640x480 with 1 Axes>"
      ]
     },
     "metadata": {},
     "output_type": "display_data"
    }
   ],
   "source": [
    " # KDE-график (плотность распределения)\n",
    "plt.subplot(1, 2, 2)\n",
    "sns.kdeplot(col_data, fill=True)\n",
    "plt.title(f\"График плотности (KDE) для {chosen_col}\")\n",
    "\n",
    "plt.tight_layout()\n",
    "plt.show()"
   ]
  },
  {
   "cell_type": "code",
   "execution_count": 102,
   "metadata": {},
   "outputs": [],
   "source": [
    "# Функция для заполнения пропусков \"хвостом распределения\"\n",
    "def impute_with_tail(dataset, column):\n",
    "    \"\"\"\n",
    "    Заполняет пропуски в числовом признаке значением \"хвоста распределения\"\n",
    "    \"\"\"\n",
    "    # Вычисляем параметры для \"хвоста распределения\" (метод IQR)\n",
    "    # Подход для асимметричного распределения:\n",
    "    Q1 = dataset[column].quantile(0.25)\n",
    "    Q3 = dataset[column].quantile(0.75)\n",
    "    IQR = Q3 - Q1\n",
    "    extreme_value = Q3 + 3 * IQR  # Используем 3*IQR для выделения выбросов\n",
    "\n",
    "    print(f\"Для '{column}': Q1={Q1}, Q3={Q3}, IQR={IQR}, Extreme Value={extreme_value}\")\n",
    "\n",
    "    # Заполняем пропуски этим значением\n",
    "    imputer = SimpleImputer(strategy='constant', fill_value=extreme_value)\n",
    "    dataset[column] = imputer.fit_transform(dataset[[column]])\n",
    "\n",
    "    return dataset"
   ]
  },
  {
   "cell_type": "code",
   "execution_count": 104,
   "metadata": {},
   "outputs": [
    {
     "name": "stdout",
     "output_type": "stream",
     "text": [
      "Для 'Оценка мировых рейтингов': Q1=68.725, Q3=77.7, IQR=8.975000000000009, Extreme Value=104.62500000000003\n"
     ]
    },
    {
     "data": {
      "image/png": "[encoded data removed]",
      "text/plain": [
       "<Figure size 640x480 with 1 Axes>"
      ]
     },
     "metadata": {},
     "output_type": "display_data"
    }
   ],
   "source": [
    "# Заполняем пропуски \"хвостом распределения\"\n",
    "data = impute_with_tail(data, chosen_col)\n",
    "\n",
    "# Визуализируем результат\n",
    "sns.kdeplot(data[chosen_col], fill=True, label=\"После заполнения\")\n",
    "plt.title(f\"Распределение признака {chosen_col} после импутации\")\n",
    "plt.legend()\n",
    "plt.show()"
   ]
  },
  {
   "cell_type": "code",
   "execution_count": 105,
   "metadata": {},
   "outputs": [
    {
     "data": {
      "text/plain": [
       "Название университета                   0\n",
       "Регион                                  0\n",
       "Год основания                           0\n",
       "Девиз                                  14\n",
       "Национальный ранг                       0\n",
       "Мировой рейтинг                         0\n",
       "Оценка мировых рейтингов                0\n",
       "Minimum_IELTS_score                     0\n",
       "Иностранные студенты                    0\n",
       "Оценка студентов                        0\n",
       "Кол-во поступивших студентов (тыс.)     0\n",
       "Кол-во преподавательского состава       0\n",
       "Тип управления университета             0\n",
       "Местоположение кампуса                 17\n",
       "Стоимость жизни в год                   0\n",
       "Широта                                  0\n",
       "Долгота                                 0\n",
       "dtype: int64"
      ]
     },
     "execution_count": 105,
     "metadata": {},
     "output_type": "execute_result"
    }
   ],
   "source": [
    "data.isnull().sum()"
   ]
  },
  {
   "cell_type": "code",
   "execution_count": 106,
   "metadata": {},
   "outputs": [
    {
     "data": {
      "text/plain": [
       "(126, 17)"
      ]
     },
     "execution_count": 106,
     "metadata": {},
     "output_type": "execute_result"
    }
   ],
   "source": [
    "data.shape"
   ]
  },
  {
   "cell_type": "code",
   "execution_count": 108,
   "metadata": {},
   "outputs": [
    {
     "data": {
      "image/png": "[encoded data removed]",
      "text/plain": [
       "<Figure size 800x500 with 1 Axes>"
      ]
     },
     "metadata": {},
     "output_type": "display_data"
    }
   ],
   "source": [
    "# Выбор столбца\n",
    "column_name = \"Мировой рейтинг\"\n",
    "\n",
    "# Построение гистограммы\n",
    "plt.figure(figsize=(8, 5))\n",
    "plt.hist(data[column_name].dropna(), bins=15, edgecolor=\"black\", alpha=0.7)\n",
    "plt.xlabel(column_name)\n",
    "plt.ylabel(\"Частота\")\n",
    "plt.title(f\"Гистограмма для {column_name}\")\n",
    "plt.grid(True)\n",
    "plt.show()\n"
   ]
  },
  {
   "cell_type": "code",
   "execution_count": 182,
   "metadata": {},
   "outputs": [
    {
     "data": {
      "text/html": [
       "<div>\n",
       "<style scoped>\n",
       "    .dataframe tbody tr th:only-of-type {\n",
       "        vertical-align: middle;\n",
       "    }\n",
       "\n",
       "    .dataframe tbody tr th {\n",
       "        vertical-align: top;\n",
       "    }\n",
       "\n",
       "    .dataframe thead th {\n",
       "        text-align: right;\n",
       "    }\n",
       "</style>\n",
       "<table border=\"1\" class=\"dataframe\">\n",
       "  <thead>\n",
       "    <tr style=\"text-align: right;\">\n",
       "      <th></th>\n",
       "      <th>feature_1</th>\n",
       "      <th>feature_2</th>\n",
       "      <th>feature_3</th>\n",
       "      <th>feature_4</th>\n",
       "      <th>feature_5</th>\n",
       "    </tr>\n",
       "  </thead>\n",
       "  <tbody>\n",
       "    <tr>\n",
       "      <th>0</th>\n",
       "      <td>1</td>\n",
       "      <td>5</td>\n",
       "      <td>2</td>\n",
       "      <td>1</td>\n",
       "      <td>1</td>\n",
       "    </tr>\n",
       "    <tr>\n",
       "      <th>1</th>\n",
       "      <td>1</td>\n",
       "      <td>5</td>\n",
       "      <td>0</td>\n",
       "      <td>1</td>\n",
       "      <td>8</td>\n",
       "    </tr>\n",
       "    <tr>\n",
       "      <th>2</th>\n",
       "      <td>1</td>\n",
       "      <td>5</td>\n",
       "      <td>2</td>\n",
       "      <td>0</td>\n",
       "      <td>4</td>\n",
       "    </tr>\n",
       "    <tr>\n",
       "      <th>3</th>\n",
       "      <td>1</td>\n",
       "      <td>5</td>\n",
       "      <td>2</td>\n",
       "      <td>1</td>\n",
       "      <td>6</td>\n",
       "    </tr>\n",
       "    <tr>\n",
       "      <th>4</th>\n",
       "      <td>1</td>\n",
       "      <td>5</td>\n",
       "      <td>0</td>\n",
       "      <td>1</td>\n",
       "      <td>8</td>\n",
       "    </tr>\n",
       "  </tbody>\n",
       "</table>\n",
       "</div>"
      ],
      "text/plain": [
       "   feature_1  feature_2  feature_3  feature_4  feature_5\n",
       "0          1          5          2          1          1\n",
       "1          1          5          0          1          8\n",
       "2          1          5          2          0          4\n",
       "3          1          5          2          1          6\n",
       "4          1          5          0          1          8"
      ]
     },
     "execution_count": 182,
     "metadata": {},
     "output_type": "execute_result"
    }
   ],
   "source": [
    "from sklearn.feature_selection import VarianceThreshold\n",
    "\n",
    "# Генерация данных с целыми числами\n",
    "np.random.seed(42)\n",
    "\n",
    "# 1. Константный признак (все значения = 1)\n",
    "constant_feature = np.ones(100, dtype=int)\n",
    "\n",
    "# 2. Псевдоконстантный признак (95% значений = 5, 5% = 6)\n",
    "pseudo_constant = np.array([5] * 95 + [6] * 5, dtype=int)\n",
    "np.random.shuffle(pseudo_constant)  # Перемешиваем\n",
    "\n",
    "# 3. Нормальные признаки с высокой дисперсией\n",
    "feature_3 = np.random.randint(0, 5, size=100)  # Случайные целые от 0 до 99\n",
    "feature_4 = np.random.randint(0, 2, size=100)    # Бинарный признак (0 или 1)\n",
    "feature_5 = np.random.randint(1, 10, size=100)   # Целевой признак (1-9)\n",
    "\n",
    "# Создаем DataFrame\n",
    "df = pd.DataFrame({\n",
    "    'feature_1': constant_feature,\n",
    "    'feature_2': pseudo_constant,\n",
    "    'feature_3': feature_3,\n",
    "    'feature_4': feature_4,\n",
    "    'feature_5': feature_5\n",
    "})\n",
    "\n",
    "# Вывод первых нескольких строк\n",
    "df.head()"
   ]
  },
  {
   "cell_type": "code",
   "execution_count": 183,
   "metadata": {},
   "outputs": [
    {
     "name": "stdout",
     "output_type": "stream",
     "text": [
      "<class 'pandas.core.frame.DataFrame'>\n",
      "RangeIndex: 100 entries, 0 to 99\n",
      "Data columns (total 5 columns):\n",
      " #   Column     Non-Null Count  Dtype\n",
      "---  ------     --------------  -----\n",
      " 0   feature_1  100 non-null    int32\n",
      " 1   feature_2  100 non-null    int32\n",
      " 2   feature_3  100 non-null    int32\n",
      " 3   feature_4  100 non-null    int32\n",
      " 4   feature_5  100 non-null    int32\n",
      "dtypes: int32(5)\n",
      "memory usage: 2.1 KB\n"
     ]
    }
   ],
   "source": [
    "df.info()"
   ]
  },
  {
   "cell_type": "code",
   "execution_count": 184,
   "metadata": {},
   "outputs": [
    {
     "data": {
      "text/plain": [
       "VarianceThreshold(threshold=0.15)"
      ]
     },
     "execution_count": 184,
     "metadata": {},
     "output_type": "execute_result"
    }
   ],
   "source": [
    "# Применение VarianceThreshold для удаления признаков с низкой дисперсией\n",
    "selector = VarianceThreshold(threshold=0.15)\n",
    "selector.fit(df)"
   ]
  },
  {
   "cell_type": "code",
   "execution_count": 185,
   "metadata": {},
   "outputs": [
    {
     "name": "stdout",
     "output_type": "stream",
     "text": [
      "\n",
      "Дисперсии признаков:\n",
      "feature_1: 0.0\n",
      "feature_2: 0.0475\n",
      "feature_3: 2.0344\n",
      "feature_4: 0.2484\n",
      "feature_5: 6.9139\n"
     ]
    }
   ],
   "source": [
    "# Вывод значений дисперсий для каждого признака\n",
    "# Значения дисперсий для каждого признака\n",
    "# Выводим дисперсии в читаемом формате\n",
    "print(\"\\nДисперсии признаков:\")\n",
    "for col, var in zip(df.columns, selector.variances_):\n",
    "    # Форматируем вывод: 8 знаков после точки, без экспоненты\n",
    "    formatted_var = f\"{var:.8f}\".rstrip('0').rstrip('.') if var != 0 else \"0.0\"\n",
    "    print(f\"{col}: {formatted_var}\")"
   ]
  },
  {
   "cell_type": "code",
   "execution_count": 186,
   "metadata": {},
   "outputs": [],
   "source": [
    "# Преобразование и создание нового DataFrame с оставшимися признаками\n",
    "df_selected = pd.DataFrame(selector.transform(df), columns=df.columns[selector.get_support()])"
   ]
  },
  {
   "cell_type": "code",
   "execution_count": 187,
   "metadata": {},
   "outputs": [
    {
     "data": {
      "text/html": [
       "<div>\n",
       "<style scoped>\n",
       "    .dataframe tbody tr th:only-of-type {\n",
       "        vertical-align: middle;\n",
       "    }\n",
       "\n",
       "    .dataframe tbody tr th {\n",
       "        vertical-align: top;\n",
       "    }\n",
       "\n",
       "    .dataframe thead th {\n",
       "        text-align: right;\n",
       "    }\n",
       "</style>\n",
       "<table border=\"1\" class=\"dataframe\">\n",
       "  <thead>\n",
       "    <tr style=\"text-align: right;\">\n",
       "      <th></th>\n",
       "      <th>feature_3</th>\n",
       "      <th>feature_4</th>\n",
       "      <th>feature_5</th>\n",
       "    </tr>\n",
       "  </thead>\n",
       "  <tbody>\n",
       "    <tr>\n",
       "      <th>0</th>\n",
       "      <td>2</td>\n",
       "      <td>1</td>\n",
       "      <td>1</td>\n",
       "    </tr>\n",
       "    <tr>\n",
       "      <th>1</th>\n",
       "      <td>0</td>\n",
       "      <td>1</td>\n",
       "      <td>8</td>\n",
       "    </tr>\n",
       "    <tr>\n",
       "      <th>2</th>\n",
       "      <td>2</td>\n",
       "      <td>0</td>\n",
       "      <td>4</td>\n",
       "    </tr>\n",
       "    <tr>\n",
       "      <th>3</th>\n",
       "      <td>2</td>\n",
       "      <td>1</td>\n",
       "      <td>6</td>\n",
       "    </tr>\n",
       "    <tr>\n",
       "      <th>4</th>\n",
       "      <td>0</td>\n",
       "      <td>1</td>\n",
       "      <td>8</td>\n",
       "    </tr>\n",
       "  </tbody>\n",
       "</table>\n",
       "</div>"
      ],
      "text/plain": [
       "   feature_3  feature_4  feature_5\n",
       "0          2          1          1\n",
       "1          0          1          8\n",
       "2          2          0          4\n",
       "3          2          1          6\n",
       "4          0          1          8"
      ]
     },
     "execution_count": 187,
     "metadata": {},
     "output_type": "execute_result"
    }
   ],
   "source": [
    "df_selected.head()"
   ]
  },
  {
   "cell_type": "code",
   "execution_count": null,
   "metadata": {},
   "outputs": [],
   "source": []
  }
 ],
 "metadata": {
  "colab": {
   "provenance": []
  },
  "kernelspec": {
   "display_name": "Python 3 (ipykernel)",
   "language": "python",
   "name": "python3"
  },
  "language_info": {
   "codemirror_mode": {
    "name": "ipython",
    "version": 3
   },
   "file_extension": ".py",
   "mimetype": "text/x-python",
   "name": "python",
   "nbconvert_exporter": "python",
   "pygments_lexer": "ipython3",
   "version": "3.10.11"
  }
 },
 "nbformat": 4,
 "nbformat_minor": 1
}
